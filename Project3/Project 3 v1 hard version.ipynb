{
 "cells": [
  {
   "cell_type": "markdown",
   "metadata": {},
   "source": [
    "# Relevant Packages"
   ]
  },
  {
   "cell_type": "code",
   "execution_count": 1,
   "metadata": {},
   "outputs": [],
   "source": [
    "#Import packages\n",
    "import IPython.display as ipd\n",
    "import numpy as np\n",
    "import pyaudio, wave\n",
    "import math\n",
    "import matplotlib.pyplot as plt\n",
    "from numpy.matlib import repmat\n",
    "from scipy.fftpack import dct"
   ]
  },
  {
   "cell_type": "code",
   "execution_count": 2,
   "metadata": {},
   "outputs": [],
   "source": [
    "#pip install  keyboard"
   ]
  },
  {
   "cell_type": "code",
   "execution_count": 3,
   "metadata": {},
   "outputs": [],
   "source": [
    "def bark2hz(z):\n",
    "    #Converts frequencies Bark to Hertz (Hz)\n",
    "    hz = 600 * np.sinh(z/6);\n",
    "    return hz"
   ]
  },
  {
   "cell_type": "code",
   "execution_count": 4,
   "metadata": {},
   "outputs": [],
   "source": [
    "def hz2bark(f):\n",
    "    #Converts frequencies Hertz (Hz) to Bark\n",
    "    # Inverse of Hynek's formula (see bark2hz)\n",
    "    z = 6 * np.arcsinh(f/600);\n",
    "    return z"
   ]
  },
  {
   "cell_type": "markdown",
   "metadata": {},
   "source": [
    "# Flow：\n",
    "\n",
    "1. Pre-Emphasize the whole chunk\n",
    "2. Windowing to get the frames\n",
    "3. Zero padding to prepare for the Fast Fourier Transform (FFT)\n",
    "4. Fast Fourier Transform to get the power spectrum\n",
    "5. Filter bank\n",
    "6. Take logarithm to get the Log Mel spectrum\n",
    "7. Discrete Cosine Transform (DCT)\n",
    "8. Get the MFCC"
   ]
  },
  {
   "cell_type": "markdown",
   "metadata": {},
   "source": [
    "# Functions"
   ]
  },
  {
   "cell_type": "markdown",
   "metadata": {},
   "source": [
    "## Pre-Emphasizing a speech signal\n",
    "\n",
    "The spectrum of the speech signal naturally has lower energy at higher frequencies. This spectral tilt can be\n",
    "corrected by pre-emphasizing the signal. Here we apply a pre-emphasis filter to amplify the high frequencies. The filter we use is: $$S_ p[n] = S[n] – 0.95*S[n-1]$$"
   ]
  },
  {
   "cell_type": "code",
   "execution_count": 5,
   "metadata": {},
   "outputs": [],
   "source": [
    "#Pre-emphasize the speech signal by a filter equation\n",
    "def Preemphasizing(chunk):\n",
    "    #input is the chunk with length set to 1600, it could also be the whole signal document (preferred)\n",
    "    pe=np.zeros(len(chunk))\n",
    "    pe[0]=chunk[0]\n",
    "    for i in range(1,len(chunk)):\n",
    "        pe[i]=chunk[i]-0.95*chunk[i-1]\n",
    "    return pe"
   ]
  },
  {
   "cell_type": "markdown",
   "metadata": {},
   "source": [
    "## Windowing the speech signal"
   ]
  },
  {
   "cell_type": "code",
   "execution_count": 6,
   "metadata": {},
   "outputs": [],
   "source": [
    "#Apply window function to the frames\n",
    "def windowing(frame,mode=\"Hamming\"):\n",
    "    #do windowing for the signal frame\n",
    "    n=len(frame)\n",
    "    #windowing the speech signal\n",
    "    if mode==\"Hamming\":\n",
    "        frame=frame*np.hamming(n)\n",
    "    elif mode==\"Hanning\":\n",
    "        frame=frame*np.hanning(n)\n",
    "    elif mode==\"Blackman\":\n",
    "        frame=frame*np.blackman(n)\n",
    "    return frame"
   ]
  },
  {
   "cell_type": "markdown",
   "metadata": {},
   "source": [
    "## Zero padding the frames \n",
    "\n",
    "Prepare for the Fast-Fourier Transform (FFT)."
   ]
  },
  {
   "cell_type": "code",
   "execution_count": 7,
   "metadata": {},
   "outputs": [],
   "source": [
    "#Pad zero to make the frame a desired length (exponential of 2)\n",
    "def zero_padding(frame,FFT_size=512):\n",
    "    #zero padding for FFT\n",
    "    frame_length=len(frame)\n",
    "    padding_length=FFT_size-frame_length\n",
    "    zeros=np.zeros((padding_length,))\n",
    "    zero_padding_frame=np.concatenate((frame,zeros))\n",
    "    return zero_padding_frame"
   ]
  },
  {
   "cell_type": "markdown",
   "metadata": {},
   "source": [
    "## Fast-Fourier Transform (FFT) \n",
    "\n",
    "Get the power spectrum."
   ]
  },
  {
   "cell_type": "code",
   "execution_count": 8,
   "metadata": {},
   "outputs": [],
   "source": [
    "#Fast-Fourier Transform\n",
    "def FFT(frame,FFT_size=512):\n",
    "    #http://dong.sh/posts/difffftandrfft/\n",
    "    #we use the rfft rather than the fft, the difference is shown in the website above.\n",
    "    # in short rfft give a result of half of the fft_size\n",
    "    mag_frame = np.absolute(np.fft.rfft(frame, FFT_size))  # Magnitude of the FFT\n",
    "    power_spectrum = ((1.0 / FFT_size) * ((mag_frame) ** 2))  # Power Spectrum\n",
    "    return power_spectrum"
   ]
  },
  {
   "cell_type": "markdown",
   "metadata": {},
   "source": [
    "##  Warping the frequency axis Hz 2 Mel & Mel 2 Hz"
   ]
  },
  {
   "cell_type": "code",
   "execution_count": 9,
   "metadata": {},
   "outputs": [],
   "source": [
    "#Herz to Mel\n",
    "def hz2mel(f):\n",
    "    #  Convert frequencies f (in Hz) to mel 'scale'.\n",
    "    #Mel warping function\n",
    "    z = 2595 * np.log10(1+f/700);\n",
    "    return z"
   ]
  },
  {
   "cell_type": "code",
   "execution_count": 10,
   "metadata": {},
   "outputs": [],
   "source": [
    "#Mel to Herz\n",
    "def mel2hz(z):\n",
    "    # Convert 'mel scale' frequencies into Hz\n",
    "    f = 700*(np.power(10,z/2595)-1)  #CHR use np.power to simulate \".^\" in matlab\n",
    "    return f"
   ]
  },
  {
   "cell_type": "markdown",
   "metadata": {},
   "source": [
    "## Filter Bank"
   ]
  },
  {
   "cell_type": "code",
   "execution_count": 11,
   "metadata": {},
   "outputs": [],
   "source": [
    "def filterbanks(power_spectrum,lower_boundHz=133.33,upper_boundHz=6855.4976,num_banks=40,FFT_size=512):\n",
    "    upper_boundMel=hz2mel(upper_boundHz)\n",
    "    lower_boundMel=hz2mel(lower_boundHz)\n",
    "    #Uniformly sample in Mel scale to get 40 triangular filters\n",
    "    mel_points=np.linspace(lower_boundMel,upper_boundMel,num_banks+2)\n",
    "    #Transform to frequency scale and generate non-uniformly distributed triangular filters\n",
    "    hz_points=mel2hz(mel_points)\n",
    "    #After FFT, the sample become half of the original (integer)\n",
    "    bin=np.floor((FFT_size + 1)/2*hz_points/(upper_boundHz-lower_boundHz))\n",
    "    #Correspond the frequency points to the power spectrum after FFT\n",
    "   #print(bin)\n",
    "    #Normalization because of the lower bound\n",
    "    bin=bin-bin[0]\n",
    "    fbank=np.zeros((num_banks,int(np.floor(FFT_size/2+1))))\n",
    "    for m in range(1,num_banks+1):\n",
    "        f_m_low=int(bin[m-1])   # left\n",
    "        f_m_center=int(bin[m])  # center\n",
    "        f_m_up=int(bin[m+1])    # right\n",
    "        for k in range(f_m_low,f_m_center):\n",
    "            fbank[m-1,k]=(k-bin[m-1])/(bin[m]-bin[m-1])\n",
    "        for k in range(f_m_center,f_m_up):\n",
    "            fbank[m-1,k]=(bin[m+1]-k)/(bin[m+1]-bin[m])\n",
    "    #Dot product\n",
    "    Fb=np.dot(power_spectrum,fbank.T)\n",
    "    #eps is a small float number. when Fb is 0, Fb is eps. this is to avoid error in division\n",
    "    Fb=np.where(Fb==0,np.finfo(float).eps,Fb) # Numerical Stability\n",
    "    \n",
    "    #Log Mel spectrum\n",
    "    #Compress values\n",
    "    Log_Mel_spectrum=10*np.log(Fb) \n",
    "    \n",
    "    return Log_Mel_spectrum"
   ]
  },
  {
   "cell_type": "markdown",
   "metadata": {},
   "source": [
    "# MFCC PART\n",
    "\n",
    "Here, I write three functions to get MFCC feature (39 dim) one is from project 2 another two functions are made of librosa and python_speech_features. "
   ]
  },
  {
   "cell_type": "code",
   "execution_count": 1,
   "metadata": {},
   "outputs": [],
   "source": [
    "def getMFCC(wavename):\n",
    "    import numpy as np\n",
    "    import scipy.io.wavfile as wav\n",
    "    from python_speech_features import mfcc\n",
    "    fs, audio = wav.read(wavename)\n",
    "    Preemphasizeddata=Preemphasizing(audio) \n",
    "    newframes=rec._chunk2frames(Preemphasizeddata)\n",
    "    #logmelspectrum\n",
    "    logmelspectrum=[]\n",
    "    mfcc=[]\n",
    "    for frame in newframes:\n",
    "        frame=windowing(frame)\n",
    "        frame=zero_padding(frame)\n",
    "        power_spectrum=FFT(frame)\n",
    "        Log_Mel_spectrum=filterbanks(power_spectrum,num_banks=40)\n",
    "        logmelspectrum.append(Log_Mel_spectrum)\n",
    "        mfcc_40=dct(Log_Mel_spectrum, type=2, norm='ortho')[0 : 13] # Keep 2-13\n",
    "        mfcc.append(mfcc_40)\n",
    "    #Normalization\n",
    "    mean=np.mean(mfccs,0)\n",
    "    for i in range(len(mfccs)):\n",
    "        for j in range(13):\n",
    "            mfccs[i][j]=mfccs[i][j]-mean[j]\n",
    "\n",
    "    mfccs[0]=np.hstack((mfccs[0],mfccs[0],mfccs[0]))\n",
    "    mfccs[-1]=np.hstack((mfccs[-1],mfccs[-1],mfccs[-1]))\n",
    "\n",
    "    for i in range(1,len(mfccs)-1):\n",
    "        delta=np.zeros(13)\n",
    "        for j in range(13):\n",
    "            delta[j]=mfccs[i+1][j]-mfccs[i-1][j]\n",
    "        mfccs[i]=np.hstack((mfccs[i],delta))\n",
    "\n",
    "    for i in range(1,len(mfccs)-1):\n",
    "        acc=np.zeros(13)\n",
    "        for j in range(13):\n",
    "            acc[j]=mfccs[i+1][13+j]-mfccs[i-1][13+j]\n",
    "        mfccs[i]=np.hstack((mfccs[i],acc))\n",
    "\n",
    "    std=np.std(mfccs)\n",
    "    var=np.var(mfccs,1)\n",
    "    for i in range(len(mfccs)):\n",
    "        for j in range(39):\n",
    "            mfccs[i][j]=mfccs[i][j]/var[i]\n",
    "\n",
    "    return np.array(mfccs)    "
   ]
  },
  {
   "cell_type": "code",
   "execution_count": 2,
   "metadata": {},
   "outputs": [],
   "source": [
    "def getMFCC2(wavename):#without normalization\n",
    "    import numpy as np\n",
    "    import scipy.io.wavfile as wav\n",
    "    from python_speech_features import mfcc\n",
    "    fs, audio = wav.read(wavename)\n",
    "    feature_mfcc = mfcc(audio, samplerate=fs)\n",
    "    mfcc=[]\n",
    "    mfcc.append(np.hstack([feature_mfcc[0],feature_mfcc[0],feature_mfcc[0]]))\n",
    "    for i in range(1,len(feature_mfcc)-1):\n",
    "        delta=np.zeros(13)\n",
    "        for j in range(13):\n",
    "            delta[j]=feature_mfcc[i+1][j]-feature_mfcc[i-1][j]\n",
    "        mfcc.append(np.hstack([feature_mfcc[i],delta]))\n",
    "    mfcc.append(np.hstack([feature_mfcc[-1],feature_mfcc[-1],feature_mfcc[-1]]))\n",
    "\n",
    "    for i in range(1,len(mfcc)-1):\n",
    "        acc=np.zeros(13)\n",
    "        for j in range(13):\n",
    "            acc[j]=mfcc[i+1][13+j]-mfcc[i-1][13+j]\n",
    "        mfcc[i]=np.hstack([mfcc[i],acc])\n",
    "    mfccs=np.array(mfcc)\n",
    "    std=np.std(mfccs)\n",
    "    var=np.var(mfccs,1)\n",
    "    for i in range(len(mfccs)):\n",
    "        for j in range(39):\n",
    "            mfccs[i][j]=mfccs[i][j]/var[i]\n",
    "    return mfccs"
   ]
  },
  {
   "cell_type": "code",
   "execution_count": 3,
   "metadata": {},
   "outputs": [],
   "source": [
    "def getMFCC3(wavename):#with normalization\n",
    "    import librosa\n",
    "    audio, sr = librosa.load(wavename,sr=None)\n",
    "    mfccs = librosa.feature.mfcc(y=audio, sr=sr,n_mfcc=39)\n",
    "    std=np.std(mfccs)\n",
    "    var=np.var(mfccs,1)\n",
    "    for i in range(len(mfccs)):\n",
    "        for j in range(39):\n",
    "            mfccs[i][j]=mfccs[i][j]/var[i]\n",
    "    return mfccs"
   ]
  },
  {
   "cell_type": "markdown",
   "metadata": {},
   "source": [
    "# Create Templates\n",
    "\n",
    "\n",
    "There are total 100 wave files, 10 samples for digit 1-10. All these files are saved in the following format by Huangrui Chu: digit_0.wav, digit_1.wav.  digit could be 0,1,2,...9."
   ]
  },
  {
   "cell_type": "code",
   "execution_count": 11,
   "metadata": {},
   "outputs": [],
   "source": [
    "def create_templates(foldername,start_instance,end_instance):\n",
    "    #we could also use this function for project 1,2,3 for testing our algorithm\n",
    "    #INPUT:\n",
    "        #foldername: the name of folder where Huangrui save the audio files\n",
    "        #end-start:the number of instance we are expected to use as the templates.\n",
    "    #OUTPUT:\n",
    "        #templates: we can easily fetch the template for the corresponding digit using:\n",
    "                #len(templates)%10+digit\n",
    "    templates=[]\n",
    "    max_template_length=0\n",
    "    for i_th_instance in range(start_instance,end_instance):\n",
    "        for digit in range(0,10):\n",
    "            #print(str(digit )+'_'+str(i_th_instance)+'.wav')\n",
    "            mfcc=getMFCC2(foldername+\"/\"+str(digit )+'_'+str(i_th_instance)+'.wav')\n",
    "            if max_template_length<len(mfcc):\n",
    "                max_template_length=len(mfcc)\n",
    "            templates.append(mfcc)\n",
    "    return templates,max_template_length"
   ]
  },
  {
   "cell_type": "markdown",
   "metadata": {},
   "source": [
    "# DTW(Dynamic Time Warping)"
   ]
  },
  {
   "cell_type": "code",
   "execution_count": 167,
   "metadata": {},
   "outputs": [],
   "source": [
    "def dtw(template,data):\n",
    "    #Author: Huangrui Chu\n",
    "    #Input:\n",
    "        #template 39 dim array\n",
    "        #data 39 dim array\n",
    "    import numpy as np\n",
    "    # insert fin at the beginning of the template and data\n",
    "    zeros=np.zeros([39])\n",
    "    template=np.vstack([zeros,template])\n",
    "    data=np.vstack([zeros,data])\n",
    "    \n",
    "    t=len(template) # means i th template frame aligns with j-th input frame\n",
    "    d=len(data)#means input frame j\n",
    "    #create empty best path cost matrix \"P\" \n",
    "    P=np.zeros([t])\n",
    "    \n",
    "    \n",
    "    for j in range(d): #input frame j\n",
    "        P1=np.zeros([t])\n",
    "        for i in range(t): # i th template frame aligns with j-th input frame\n",
    "            Cij=np.sqrt(np.sum(np.square(template[i]-data[j])))\n",
    "            #print(Cij)\n",
    "            if i-2>=0:\n",
    "                P1[i]=min(P[i],P[i-1],P[i-2])+Cij\n",
    "            elif i-1>=0:\n",
    "                P1[i]=min(P[i],P[i-1])+Cij\n",
    "            else:\n",
    "                P1[i]=P[i]+Cij\n",
    "        P=P1.copy() #Use deep copy to updata the best path cost\n",
    "        #print(P)\n",
    "    #Use DTW cost / frame of input speech, instead of total DTW cost, before determining threshold\n",
    "    # 5 PPT  p.g 32\n",
    "    normalized_cost=P[-1]/d\n",
    "    return normalized_cost"
   ]
  },
  {
   "cell_type": "markdown",
   "metadata": {},
   "source": [
    "# dtw-based recognition"
   ]
  },
  {
   "cell_type": "code",
   "execution_count": 158,
   "metadata": {},
   "outputs": [],
   "source": [
    "def DTW_Based_recognition(templates,check_mfcc):\n",
    "    smallest_distance=[100000,10000]\n",
    "    #smallest_distance[0] save the current smallest distance,smallest_distance[1] save the corresponding template id\n",
    "    for i in range(len(templates)):\n",
    "        distance=dtw(templates[i],check_mfcc)\n",
    "        if distance<smallest_distance[0]:\n",
    "            smallest_distance[0]=distance\n",
    "#             print(distance)\n",
    "            smallest_distance[1]=i\n",
    "#             print(\"id is {}\".format(i))\n",
    "#             print(\"maybe {}\".format(i%10))\n",
    "    final_answer=smallest_distance[1]%10\n",
    "#     print(\"I guess the answer is {}\".format(final_answer))\n",
    "    return final_answer"
   ]
  },
  {
   "cell_type": "code",
   "execution_count": 159,
   "metadata": {},
   "outputs": [
    {
     "ename": "NameError",
     "evalue": "name 'mfccs' is not defined",
     "output_type": "error",
     "traceback": [
      "\u001b[1;31m---------------------------------------------------------------------------\u001b[0m",
      "\u001b[1;31mNameError\u001b[0m                                 Traceback (most recent call last)",
      "\u001b[1;32m<ipython-input-159-394a08d3e809>\u001b[0m in \u001b[0;36m<module>\u001b[1;34m\u001b[0m\n\u001b[0;32m      1\u001b[0m \u001b[0mfoldername\u001b[0m\u001b[1;33m=\u001b[0m\u001b[1;34m\"../data\"\u001b[0m\u001b[1;33m\u001b[0m\u001b[1;33m\u001b[0m\u001b[0m\n\u001b[1;32m----> 2\u001b[1;33m \u001b[0mtest_data\u001b[0m\u001b[1;33m,\u001b[0m\u001b[0mmax_test_length\u001b[0m\u001b[1;33m=\u001b[0m\u001b[0mcreate_templates\u001b[0m\u001b[1;33m(\u001b[0m\u001b[0mfoldername\u001b[0m\u001b[1;33m,\u001b[0m\u001b[1;36m5\u001b[0m\u001b[1;33m,\u001b[0m\u001b[1;36m10\u001b[0m\u001b[1;33m)\u001b[0m\u001b[1;33m\u001b[0m\u001b[1;33m\u001b[0m\u001b[0m\n\u001b[0m\u001b[0;32m      3\u001b[0m \u001b[0mtemplates\u001b[0m\u001b[1;33m,\u001b[0m\u001b[0mmax_template_length\u001b[0m\u001b[1;33m=\u001b[0m\u001b[0mcreate_templates\u001b[0m\u001b[1;33m(\u001b[0m\u001b[0mfoldername\u001b[0m\u001b[1;33m,\u001b[0m\u001b[1;36m0\u001b[0m\u001b[1;33m,\u001b[0m\u001b[1;36m1\u001b[0m\u001b[1;33m)\u001b[0m\u001b[1;33m\u001b[0m\u001b[1;33m\u001b[0m\u001b[0m\n",
      "\u001b[1;32m<ipython-input-156-a482da7a60d4>\u001b[0m in \u001b[0;36mcreate_templates\u001b[1;34m(foldername, start_instance, end_instance)\u001b[0m\n\u001b[0;32m     12\u001b[0m         \u001b[1;32mfor\u001b[0m \u001b[0mdigit\u001b[0m \u001b[1;32min\u001b[0m \u001b[0mrange\u001b[0m\u001b[1;33m(\u001b[0m\u001b[1;36m0\u001b[0m\u001b[1;33m,\u001b[0m\u001b[1;36m10\u001b[0m\u001b[1;33m)\u001b[0m\u001b[1;33m:\u001b[0m\u001b[1;33m\u001b[0m\u001b[1;33m\u001b[0m\u001b[0m\n\u001b[0;32m     13\u001b[0m             \u001b[1;31m#print(str(digit )+'_'+str(i_th_instance)+'.wav')\u001b[0m\u001b[1;33m\u001b[0m\u001b[1;33m\u001b[0m\u001b[1;33m\u001b[0m\u001b[0m\n\u001b[1;32m---> 14\u001b[1;33m             \u001b[0mmfcc\u001b[0m\u001b[1;33m=\u001b[0m\u001b[0mgetMFCC2\u001b[0m\u001b[1;33m(\u001b[0m\u001b[0mfoldername\u001b[0m\u001b[1;33m+\u001b[0m\u001b[1;34m\"/\"\u001b[0m\u001b[1;33m+\u001b[0m\u001b[0mstr\u001b[0m\u001b[1;33m(\u001b[0m\u001b[0mdigit\u001b[0m \u001b[1;33m)\u001b[0m\u001b[1;33m+\u001b[0m\u001b[1;34m'_'\u001b[0m\u001b[1;33m+\u001b[0m\u001b[0mstr\u001b[0m\u001b[1;33m(\u001b[0m\u001b[0mi_th_instance\u001b[0m\u001b[1;33m)\u001b[0m\u001b[1;33m+\u001b[0m\u001b[1;34m'.wav'\u001b[0m\u001b[1;33m)\u001b[0m\u001b[1;33m\u001b[0m\u001b[1;33m\u001b[0m\u001b[0m\n\u001b[0m\u001b[0;32m     15\u001b[0m             \u001b[1;32mif\u001b[0m \u001b[0mmax_template_length\u001b[0m\u001b[1;33m<\u001b[0m\u001b[0mlen\u001b[0m\u001b[1;33m(\u001b[0m\u001b[0mmfcc\u001b[0m\u001b[1;33m)\u001b[0m\u001b[1;33m:\u001b[0m\u001b[1;33m\u001b[0m\u001b[1;33m\u001b[0m\u001b[0m\n\u001b[0;32m     16\u001b[0m                 \u001b[0mmax_template_length\u001b[0m\u001b[1;33m=\u001b[0m\u001b[0mlen\u001b[0m\u001b[1;33m(\u001b[0m\u001b[0mmfcc\u001b[0m\u001b[1;33m)\u001b[0m\u001b[1;33m\u001b[0m\u001b[1;33m\u001b[0m\u001b[0m\n",
      "\u001b[1;32m<ipython-input-154-39341724b2d2>\u001b[0m in \u001b[0;36mgetMFCC2\u001b[1;34m(wavename)\u001b[0m\n\u001b[0;32m     20\u001b[0m         \u001b[0mmfcc\u001b[0m\u001b[1;33m[\u001b[0m\u001b[0mi\u001b[0m\u001b[1;33m]\u001b[0m\u001b[1;33m=\u001b[0m\u001b[0mnp\u001b[0m\u001b[1;33m.\u001b[0m\u001b[0mhstack\u001b[0m\u001b[1;33m(\u001b[0m\u001b[1;33m[\u001b[0m\u001b[0mmfcc\u001b[0m\u001b[1;33m[\u001b[0m\u001b[0mi\u001b[0m\u001b[1;33m]\u001b[0m\u001b[1;33m,\u001b[0m\u001b[0macc\u001b[0m\u001b[1;33m]\u001b[0m\u001b[1;33m)\u001b[0m\u001b[1;33m\u001b[0m\u001b[1;33m\u001b[0m\u001b[0m\n\u001b[0;32m     21\u001b[0m     \u001b[0mmfcc\u001b[0m\u001b[1;33m=\u001b[0m\u001b[0mnp\u001b[0m\u001b[1;33m.\u001b[0m\u001b[0marray\u001b[0m\u001b[1;33m(\u001b[0m\u001b[0mmfcc\u001b[0m\u001b[1;33m)\u001b[0m\u001b[1;33m\u001b[0m\u001b[1;33m\u001b[0m\u001b[0m\n\u001b[1;32m---> 22\u001b[1;33m     \u001b[0mstd\u001b[0m\u001b[1;33m=\u001b[0m\u001b[0mnp\u001b[0m\u001b[1;33m.\u001b[0m\u001b[0mstd\u001b[0m\u001b[1;33m(\u001b[0m\u001b[0mmfccs\u001b[0m\u001b[1;33m)\u001b[0m\u001b[1;33m\u001b[0m\u001b[1;33m\u001b[0m\u001b[0m\n\u001b[0m\u001b[0;32m     23\u001b[0m     \u001b[0mvar\u001b[0m\u001b[1;33m=\u001b[0m\u001b[0mnp\u001b[0m\u001b[1;33m.\u001b[0m\u001b[0mvar\u001b[0m\u001b[1;33m(\u001b[0m\u001b[0mmfccs\u001b[0m\u001b[1;33m,\u001b[0m\u001b[1;36m1\u001b[0m\u001b[1;33m)\u001b[0m\u001b[1;33m\u001b[0m\u001b[1;33m\u001b[0m\u001b[0m\n\u001b[0;32m     24\u001b[0m     \u001b[1;32mfor\u001b[0m \u001b[0mi\u001b[0m \u001b[1;32min\u001b[0m \u001b[0mrange\u001b[0m\u001b[1;33m(\u001b[0m\u001b[0mlen\u001b[0m\u001b[1;33m(\u001b[0m\u001b[0mmfccs\u001b[0m\u001b[1;33m)\u001b[0m\u001b[1;33m)\u001b[0m\u001b[1;33m:\u001b[0m\u001b[1;33m\u001b[0m\u001b[1;33m\u001b[0m\u001b[0m\n",
      "\u001b[1;31mNameError\u001b[0m: name 'mfccs' is not defined"
     ]
    }
   ],
   "source": [
    "foldername=\"../data\"\n",
    "test_data,max_test_length=create_templates(foldername,5,10)\n",
    "templates,max_template_length=create_templates(foldername,0,1)"
   ]
  },
  {
   "cell_type": "code",
   "execution_count": 160,
   "metadata": {},
   "outputs": [
    {
     "ename": "NameError",
     "evalue": "name 'test_data' is not defined",
     "output_type": "error",
     "traceback": [
      "\u001b[1;31m---------------------------------------------------------------------------\u001b[0m",
      "\u001b[1;31mNameError\u001b[0m                                 Traceback (most recent call last)",
      "\u001b[1;32m<ipython-input-160-5b0a067c5be3>\u001b[0m in \u001b[0;36m<module>\u001b[1;34m\u001b[0m\n\u001b[1;32m----> 1\u001b[1;33m \u001b[0mcheck_mfcc\u001b[0m\u001b[1;33m=\u001b[0m\u001b[0mtest_data\u001b[0m\u001b[1;33m[\u001b[0m\u001b[1;36m6\u001b[0m\u001b[1;33m]\u001b[0m\u001b[1;33m\u001b[0m\u001b[1;33m\u001b[0m\u001b[0m\n\u001b[0m",
      "\u001b[1;31mNameError\u001b[0m: name 'test_data' is not defined"
     ]
    }
   ],
   "source": [
    "check_mfcc=test_data[6]"
   ]
  },
  {
   "cell_type": "code",
   "execution_count": 161,
   "metadata": {},
   "outputs": [
    {
     "ename": "NameError",
     "evalue": "name 'templates' is not defined",
     "output_type": "error",
     "traceback": [
      "\u001b[1;31m---------------------------------------------------------------------------\u001b[0m",
      "\u001b[1;31mNameError\u001b[0m                                 Traceback (most recent call last)",
      "\u001b[1;32m<ipython-input-161-a132051237b5>\u001b[0m in \u001b[0;36m<module>\u001b[1;34m\u001b[0m\n\u001b[1;32m----> 1\u001b[1;33m \u001b[0mDTW_Based_recognition\u001b[0m\u001b[1;33m(\u001b[0m\u001b[0mtemplates\u001b[0m\u001b[1;33m,\u001b[0m\u001b[0mcheck_mfcc\u001b[0m\u001b[1;33m)\u001b[0m\u001b[1;33m\u001b[0m\u001b[1;33m\u001b[0m\u001b[0m\n\u001b[0m",
      "\u001b[1;31mNameError\u001b[0m: name 'templates' is not defined"
     ]
    }
   ],
   "source": [
    "DTW_Based_recognition(templates,check_mfcc)"
   ]
  },
  {
   "cell_type": "markdown",
   "metadata": {},
   "source": [
    "# Time Synchronous Search DTW"
   ]
  },
  {
   "cell_type": "code",
   "execution_count": 162,
   "metadata": {},
   "outputs": [],
   "source": [
    "def TS_DTW_Based_recognition(templates,max_template_length,data,threshold=0.1):\n",
    "    #Author: Huangrui Chu\n",
    "    #Input:\n",
    "        #templates a list containing several 39 dim arrays\n",
    "        #data 39 dim array\n",
    "        #threshold: the threshold to stop the search for certain template\n",
    "                    #the threshold should be soft 想想教授上课怎么讲的，我忘了\n",
    "    import numpy as np\n",
    "    num_templates=len(templates)\n",
    "    #the templates that are still candidates\n",
    "    to_test_templates=np.zeros([num_templates])+1\n",
    "    to_test_templates_length=np.zeros([num_templates])\n",
    "    # insert fin at the beginning of the template and data\n",
    "    template=templates[0]\n",
    "    zeros=np.zeros([39])\n",
    "    TS_template=np.vstack([zeros,template])\n",
    "    to_test_templates_length[0]=len(template)\n",
    "    for i in range(1,num_templates):\n",
    "        template=templates[i]\n",
    "        zeros=np.zeros([39])\n",
    "        template=np.vstack([zeros,template])\n",
    "        to_test_templates_length[i]=len(template)\n",
    "        #pad all the templates to the same length\n",
    "        TS_template=np.hstack([TS_template,template])\n",
    "    print(TS_template.shape)\n",
    "    data=np.vstack([zeros,data])\n",
    "    \n",
    "    t=len(template) # means i th template frame aligns with j-th input frame\n",
    "    d=len(data)#means input frame j\n",
    "    #create empty best path cost matrix \"P\" \n",
    "    P=np.zeros([t])"
   ]
  },
  {
   "cell_type": "code",
   "execution_count": 89,
   "metadata": {},
   "outputs": [
    {
     "ename": "ValueError",
     "evalue": "all the input array dimensions for the concatenation axis must match exactly, but along dimension 0, the array at index 0 has size 270 and the array at index 1 has size 250",
     "output_type": "error",
     "traceback": [
      "\u001b[1;31m---------------------------------------------------------------------------\u001b[0m",
      "\u001b[1;31mValueError\u001b[0m                                Traceback (most recent call last)",
      "\u001b[1;32m<ipython-input-89-1614e44757ff>\u001b[0m in \u001b[0;36m<module>\u001b[1;34m\u001b[0m\n\u001b[1;32m----> 1\u001b[1;33m \u001b[0mTS_DTW\u001b[0m\u001b[1;33m(\u001b[0m\u001b[0mtemplates\u001b[0m\u001b[1;33m,\u001b[0m\u001b[0mcheck_mfcc\u001b[0m\u001b[1;33m,\u001b[0m\u001b[0mthreshold\u001b[0m\u001b[1;33m=\u001b[0m\u001b[1;36m0.1\u001b[0m\u001b[1;33m)\u001b[0m\u001b[1;33m\u001b[0m\u001b[1;33m\u001b[0m\u001b[0m\n\u001b[0m",
      "\u001b[1;32m<ipython-input-87-9a6d3f38b6ea>\u001b[0m in \u001b[0;36mTS_DTW\u001b[1;34m(templates, data, threshold)\u001b[0m\n\u001b[0;32m     18\u001b[0m         \u001b[0mzeros\u001b[0m\u001b[1;33m=\u001b[0m\u001b[0mnp\u001b[0m\u001b[1;33m.\u001b[0m\u001b[0mzeros\u001b[0m\u001b[1;33m(\u001b[0m\u001b[1;33m[\u001b[0m\u001b[1;36m39\u001b[0m\u001b[1;33m]\u001b[0m\u001b[1;33m)\u001b[0m\u001b[1;33m\u001b[0m\u001b[1;33m\u001b[0m\u001b[0m\n\u001b[0;32m     19\u001b[0m         \u001b[0mtemplate\u001b[0m\u001b[1;33m=\u001b[0m\u001b[0mnp\u001b[0m\u001b[1;33m.\u001b[0m\u001b[0mvstack\u001b[0m\u001b[1;33m(\u001b[0m\u001b[1;33m[\u001b[0m\u001b[0mzeros\u001b[0m\u001b[1;33m,\u001b[0m\u001b[0mtemplate\u001b[0m\u001b[1;33m]\u001b[0m\u001b[1;33m)\u001b[0m\u001b[1;33m\u001b[0m\u001b[1;33m\u001b[0m\u001b[0m\n\u001b[1;32m---> 20\u001b[1;33m         \u001b[0mTS_template\u001b[0m\u001b[1;33m=\u001b[0m\u001b[0mnp\u001b[0m\u001b[1;33m.\u001b[0m\u001b[0mhstack\u001b[0m\u001b[1;33m(\u001b[0m\u001b[1;33m[\u001b[0m\u001b[0mTS_template\u001b[0m\u001b[1;33m,\u001b[0m\u001b[0mtemplate\u001b[0m\u001b[1;33m]\u001b[0m\u001b[1;33m)\u001b[0m\u001b[1;33m\u001b[0m\u001b[1;33m\u001b[0m\u001b[0m\n\u001b[0m\u001b[0;32m     21\u001b[0m     \u001b[0mprint\u001b[0m\u001b[1;33m(\u001b[0m\u001b[0mTS_template\u001b[0m\u001b[1;33m.\u001b[0m\u001b[0mshape\u001b[0m\u001b[1;33m)\u001b[0m\u001b[1;33m\u001b[0m\u001b[1;33m\u001b[0m\u001b[0m\n\u001b[0;32m     22\u001b[0m     \u001b[0mdata\u001b[0m\u001b[1;33m=\u001b[0m\u001b[0mnp\u001b[0m\u001b[1;33m.\u001b[0m\u001b[0mvstack\u001b[0m\u001b[1;33m(\u001b[0m\u001b[1;33m[\u001b[0m\u001b[0mzeros\u001b[0m\u001b[1;33m,\u001b[0m\u001b[0mdata\u001b[0m\u001b[1;33m]\u001b[0m\u001b[1;33m)\u001b[0m\u001b[1;33m\u001b[0m\u001b[1;33m\u001b[0m\u001b[0m\n",
      "\u001b[1;32m<__array_function__ internals>\u001b[0m in \u001b[0;36mhstack\u001b[1;34m(*args, **kwargs)\u001b[0m\n",
      "\u001b[1;32m~\\anaconda3\\lib\\site-packages\\numpy\\core\\shape_base.py\u001b[0m in \u001b[0;36mhstack\u001b[1;34m(tup)\u001b[0m\n\u001b[0;32m    344\u001b[0m         \u001b[1;32mreturn\u001b[0m \u001b[0m_nx\u001b[0m\u001b[1;33m.\u001b[0m\u001b[0mconcatenate\u001b[0m\u001b[1;33m(\u001b[0m\u001b[0marrs\u001b[0m\u001b[1;33m,\u001b[0m \u001b[1;36m0\u001b[0m\u001b[1;33m)\u001b[0m\u001b[1;33m\u001b[0m\u001b[1;33m\u001b[0m\u001b[0m\n\u001b[0;32m    345\u001b[0m     \u001b[1;32melse\u001b[0m\u001b[1;33m:\u001b[0m\u001b[1;33m\u001b[0m\u001b[1;33m\u001b[0m\u001b[0m\n\u001b[1;32m--> 346\u001b[1;33m         \u001b[1;32mreturn\u001b[0m \u001b[0m_nx\u001b[0m\u001b[1;33m.\u001b[0m\u001b[0mconcatenate\u001b[0m\u001b[1;33m(\u001b[0m\u001b[0marrs\u001b[0m\u001b[1;33m,\u001b[0m \u001b[1;36m1\u001b[0m\u001b[1;33m)\u001b[0m\u001b[1;33m\u001b[0m\u001b[1;33m\u001b[0m\u001b[0m\n\u001b[0m\u001b[0;32m    347\u001b[0m \u001b[1;33m\u001b[0m\u001b[0m\n\u001b[0;32m    348\u001b[0m \u001b[1;33m\u001b[0m\u001b[0m\n",
      "\u001b[1;32m<__array_function__ internals>\u001b[0m in \u001b[0;36mconcatenate\u001b[1;34m(*args, **kwargs)\u001b[0m\n",
      "\u001b[1;31mValueError\u001b[0m: all the input array dimensions for the concatenation axis must match exactly, but along dimension 0, the array at index 0 has size 270 and the array at index 1 has size 250"
     ]
    }
   ],
   "source": [
    "TS_DTW_Based_recognition(templates,max_template_length,check_mfcc,threshold=0.1)"
   ]
  },
  {
   "cell_type": "markdown",
   "metadata": {},
   "source": [
    "# check the accuracy"
   ]
  },
  {
   "cell_type": "code",
   "execution_count": 96,
   "metadata": {},
   "outputs": [],
   "source": [
    "def check_the_accuracy(foldername,start_instance,end_instance,test_data):\n",
    "    print(\"Huangrui is going to check the accuracy based dtw with {} templates\".format(end_instance-start_instance))\n",
    "    the_input_digit=[]\n",
    "    the_dtw_result=[]\n",
    "    templates=create_templates(foldername,start_instance,end_instance)\n",
    "    for i in range(len(test_data)):\n",
    "        current_digit=i%10\n",
    "        current_guess=DTW_Based_recognition(templates,test_data[i])\n",
    "        the_input_digit.append(current_digit)\n",
    "        the_dtw_result.append( current_guess)\n",
    "    return the_input_digit,the_dtw_result"
   ]
  },
  {
   "cell_type": "code",
   "execution_count": 97,
   "metadata": {},
   "outputs": [],
   "source": [
    "foldername=\"../data\"\n",
    "test_data=create_templates(foldername,5,10)"
   ]
  },
  {
   "cell_type": "code",
   "execution_count": null,
   "metadata": {},
   "outputs": [],
   "source": [
    "a,b= check_the_accuracy(foldername,0,1,test_data)"
   ]
  },
  {
   "cell_type": "code",
   "execution_count": 106,
   "metadata": {},
   "outputs": [
    {
     "name": "stdout",
     "output_type": "stream",
     "text": [
      "Among all the 50 test instance, 8 are corret, the accuracy is 0.16\n"
     ]
    }
   ],
   "source": [
    "result=np.array(a)-np.array(b)\n",
    "correct_num=np.sum(result==0)\n",
    "test_num=len(result)\n",
    "test_accuracy=correct_num/test_num\n",
    "print(\"Among all the {} test instance, {} are corret, the accuracy is {}\".format(test_num,correct_num,test_accuracy))"
   ]
  },
  {
   "cell_type": "markdown",
   "metadata": {},
   "source": [
    "# Problem 2 K Means Hard Version\n",
    "\n",
    "Use the segmental K-means procedure to train an HMM for each of the digits\n",
    "(using the 5 \"training\" recordings you have for them). Assume each state to\n",
    "have a single Gaussian distribution, and the HMM for each digit to have 5\n",
    "states. Recognize the 5 test utterances using the HMM models and report\n",
    "recognition accuracy."
   ]
  },
  {
   "cell_type": "code",
   "execution_count": 4,
   "metadata": {},
   "outputs": [],
   "source": [
    " def traceback(D):\n",
    "    #start from the last state and last frame\n",
    "    current_state,current_frame=np.array(D.shape)-1\n",
    "    #insert the last frame's state\n",
    "    x=[current_state]\n",
    "    \n",
    "    #print(current_frame+1)\n",
    "    # we do not need the frame 0, which is the fine\n",
    "    while current_state>0 and current_frame>1:\n",
    "        #move to the previous frame\n",
    "        current_frame-=1\n",
    "        #print(current_state)\n",
    "        if current_state>2:\n",
    "            to_check=[D[current_state][current_frame-1],\n",
    "                      D[current_state-1][current_frame-1],\n",
    "                      D[current_state-2][current_frame-1]]\n",
    "            track=np.argmin(to_check)\n",
    "        elif current_state>1:\n",
    "            to_check=[D[current_state][current_frame-1],\n",
    "                      D[current_state-1][current_frame-1]]\n",
    "            track=np.argmin(to_check)\n",
    "        else:\n",
    "            track=0\n",
    "            \n",
    "        if track==0:\n",
    "            #which means, last frame still in the same stage\n",
    "            x.insert(0,current_state)\n",
    "        elif track==1:\n",
    "            current_state-=1\n",
    "            x.insert(0,current_state)\n",
    "        else:\n",
    "            current_state-=2\n",
    "            x.insert(0,current_state)\n",
    "    #print(x)\n",
    "    \n",
    "#     print(len(x))\n",
    "#    print(np.bincount(x, weights=None, minlength=0))\n",
    "#     print()\n",
    "    return x"
   ]
  },
  {
   "cell_type": "code",
   "execution_count": null,
   "metadata": {},
   "outputs": [],
   "source": [
    "def log_gaussian(mu,squared_sigma,input_vector):\n",
    "    #Author: Huangrui Chu, \n",
    "    #Calculate the cost using log gaussian\n",
    "    part1=0.5*np.sum(np.log((2*np.pi)*(squared_sigma)))\n",
    "    part2=0.5*np.sum(np.square((input_vector-mu))/squared_sigma)\n",
    "    cost= part1+part2\n",
    "    return cost"
   ]
  },
  {
   "cell_type": "code",
   "execution_count": 5,
   "metadata": {},
   "outputs": [],
   "source": [
    "import numpy as np\n",
    "def Kmean_dtw(model_vectors,data,T,cov_cent,get_track=False):\n",
    "    #Author: Huangrui Chu\n",
    "    #Input, T is the transition_score\n",
    "    #yes, we use cost!!!!!!!!\n",
    "    #Output: the path, how we align each node\n",
    "    # insert fin at the beginning of the template and data\n",
    "    zeros=np.zeros([39])\n",
    "    model_vectors=np.vstack([zeros,model_vectors])\n",
    "    #这边对应的是不是我的cov 要append1？？？???????????????????????????????????\n",
    "    ones=np.zeros([39])+1\n",
    "    cov_cent=np.vstack([ones,cov_cent])\n",
    "    data=np.vstack([zeros,data])\n",
    "    #print(data.shape)\n",
    "\n",
    "    t=len(model_vectors) # here, t should be the number of states+1 we set\n",
    "    d=len(data)#means input frame j\n",
    "    #create empty best path cost matrix \"P\" \n",
    "    P=np.zeros([t,d])\n",
    "    #to fetch the data, we use P[i][j],i for template and j for input data\n",
    "#     • P i,j = best path cost from origin to node [i,j]\n",
    "#     • C i,j = local node cost of aligning template frame i to input frame j\n",
    "#     • T i,j,k,l = Edge cost from node (i,j) to node (k,l)\n",
    "\n",
    "    for j in range(0,d): #input frame j\n",
    "        for i in range(t): # i th template frame aligns with j-th input frame\n",
    "            #6 PPT p.g. 65\n",
    "            Cij= log_gaussian(model_vectors[i],cov_cent[i],data[j])\n",
    "            #print(Cij)\n",
    "            if i-2>=0:\n",
    "                P[i][j]=min(P[i][j-1]+T[i][i],P[i-1][j-1]+T[i-1][i],\n",
    "                            P[i-2][j-1]+T[i-2][i])+Cij\n",
    "            elif i-1>=0:\n",
    "                P[i][j]=min(P[i][j-1]+T[i][i],P[i-1][j-1]+T[i-1][i])+Cij\n",
    "            else:\n",
    "                P[i][j]=P[i][j]+Cij\n",
    "                \n",
    "    #Use DTW cost / frame of input speech, instead of total DTW cost, before determining threshold\n",
    "    # 5 PPT  p.g 32\n",
    "    P=P/d\n",
    "#     print(P.shape)\n",
    "#     print(P[-1][-1])\n",
    "#     print(P)\n",
    "    distance=P[-1][-1]\n",
    "    if get_track:\n",
    "        return distance,traceback(P)\n",
    "    else:\n",
    "        return distance"
   ]
  },
  {
   "cell_type": "code",
   "execution_count": 6,
   "metadata": {},
   "outputs": [],
   "source": [
    "import numpy as np\n",
    "def Kmeans(templates_for_Kmeans,state_number=5):\n",
    "    def fetch_mvectors_and_cov(templates_for_Kmeans,node_state,state_number):\n",
    "        model_vectors=[]#model vector of each state\n",
    "        cov_cent=[]#covariance of each state\n",
    "        node_in_each_state=[]#state number decide sublist number\n",
    "        # node_in_each_state[0] is empty\n",
    "        for state in range(state_number+1):\n",
    "            node_in_each_state.append([])\n",
    "            \n",
    "        for k in range(len(templates_for_Kmeans)):#templates number\n",
    "            # the i th vector of the k th training sequence\n",
    "            for i in range(len(node_state[k])):\n",
    "                j=int(node_state[k][i])#the state of the i th vector\n",
    "                node_in_each_state[j].append(templates_for_Kmeans[k][i])\n",
    "\n",
    "        for j in range(1,state_number+1):\n",
    "            #calculate the initial mean of all the vectors belong to state j\n",
    "            #print(node_in_each_state[j])\n",
    "            m_j=np.mean(node_in_each_state[j],0)\n",
    "            model_vectors.append(m_j)\n",
    "            #transform the list to array\n",
    "            node_in_each_state[j]=np.array(node_in_each_state[j])\n",
    "            #calculate the initial cov of all the vectors belong to state j\n",
    "            cov_temp=np.cov(np.array(node_in_each_state[j]).T)\n",
    "            cov_diagnol=np.diagonal(cov_temp, offset=0, axis1=0, axis2=1)\n",
    "            cov_cent.append(cov_diagnol)\n",
    "            #print(cov_diagnol)\n",
    "        #print(\"yeah~~,CHR is soooo good\")\n",
    "        return model_vectors,cov_cent\n",
    "    \n",
    "    def compute_transition_cost(node_state,state_number):\n",
    "        # 6 PPT p.g 53\n",
    "        #return the transition probability matrix\n",
    "        #have five states+fine(which means Huangrui Chu set 6 states here)\n",
    "        shift_likehood=np.zeros((state_number+1,state_number+1))\n",
    "        state_node_num=np.zeros(state_number+1)\n",
    "        #fetch all the initial state\n",
    "        initial_states=[]\n",
    "        for k in range(len(node_state)):\n",
    "            shift_likehood[0][node_state[k][0]]+=1\n",
    "            \n",
    "        # count the state transition of all the nodes\n",
    "        for k in range(len(node_state)):\n",
    "            for i in range(len(node_state[k])-1):\n",
    "                current_node=node_state[k][i]\n",
    "                next_node=node_state[k][i+1]\n",
    "                shift_likehood[current_node][next_node]+=1 \n",
    "                state_node_num[current_node]+=1\n",
    "            #last node case        \n",
    "            shift_likehood[node_state[k][-2]][node_state[k][-1]]+=1\n",
    "            state_node_num[node_state[k][-1]]+=1\n",
    "        #It is sometimes useful to permit entry directly into later states\n",
    "        for j in range(state_number+1):\n",
    "            #N is the total number of training sequences\n",
    "            N=len(node_state)\n",
    "            #N_0j is the number of training sequences for which\n",
    "            #the first data vector was in the j th state\n",
    "            N_0j=shift_likehood[0][j]\n",
    "            shift_likehood[0][j]=N_0j/N\n",
    "            if N_0j==0:\n",
    "                shift_likehood[0][j]=np.inf\n",
    "            else:\n",
    "                shift_likehood[0][j]=-np.log(shift_likehood[0][j])\n",
    "            \n",
    "        #6 PPT p.g 55\n",
    "        for j in range(1,state_number+1):\n",
    "            for k in range(j,state_number+1):\n",
    "                shift_likehood[j][k]=shift_likehood[j][k]/state_node_num[j]\n",
    "                #transition probability---->transition cost\n",
    "                #T_ij in 6 PPT p.g 58\n",
    "                if shift_likehood[j][k]!=0:\n",
    "                    shift_likehood[j][k]=-np.log(shift_likehood[j][k])\n",
    "                else:\n",
    "                    shift_likehood[j][k]=np.inf\n",
    "        transition_cost=np.array(shift_likehood)\n",
    "        #print(\"likelihood is\")\n",
    "        #print(transition_cost)\n",
    "        return transition_cost\n",
    "    \n",
    "    #initial setup\n",
    "    node_state=[]#each node in which state, all templates together\n",
    "    for k in range(len(templates_for_Kmeans)):#templates number\n",
    "        #now, it is the k th training sequence we are look at\n",
    "        #for initial part, each state have even number of nodes\n",
    "        n_node=len(templates_for_Kmeans[k])//state_number\n",
    "        #n_node is the N_kj\n",
    "        node_state.extend([[]])# to store the node state of k th sequence\n",
    "        #now, initialize the node state for each node in the k th sequence\n",
    "        for state in range(1,state_number+1):\n",
    "            for node in range(n_node):\n",
    "                node_state[k].append(state)\n",
    "        # if there are still some node not get assaigned,they are the last state\n",
    "        num_left_nodes=len(templates_for_Kmeans[k])-len(node_state[k])\n",
    "        if num_left_nodes>0 :\n",
    "            for node in range(num_left_nodes):\n",
    "                node_state[k].append(state_number)\n",
    "        #to check my initial node state assignment\n",
    "        #print(np.bincount(node_state[k], weights=None, minlength=0))\n",
    "        \n",
    "    # By now, for every training squence, we fetch the initial node state\n",
    "    #Next, we need to calculate the model_vectors and cov_cent\n",
    "    model_vectors,covarience=fetch_mvectors_and_cov(templates_for_Kmeans,\n",
    "                                                         node_state,\n",
    "                                                         state_number)\n",
    "    #Next,to simulate the transition structures, we need to calculate the\n",
    "    #transition probability\n",
    "    transition_cost=compute_transition_cost(node_state,state_number)\n",
    "    \n",
    "    #complete set up by iteratively update the model vectors,covariance\n",
    "    #and transition score\n",
    "    previous_best_distance=-np.inf\n",
    "    current_best_distance=0\n",
    "    for j in range(1,100):\n",
    "        #update the node state\n",
    "        for k in range(len(templates_for_Kmeans)):\n",
    "#             print(\"previous\")\n",
    "#             previous_state_count=np.bincount(node_state[k], weights=None, minlength=0)\n",
    "            distance,node_state[k]=Kmean_dtw(model_vectors,templates_for_Kmeans[k]\n",
    "                                    ,transition_cost,covarience,get_track=True)\n",
    "            current_best_distance+=distance\n",
    "#             print(\"later\")\n",
    "#             later_state_count=np.bincount(node_state[k], weights=None, minlength=0)\n",
    "            \n",
    "            \n",
    "        #according to the updated node state, update model_vectors,covarience\n",
    "        model_vectors,covarience=fetch_mvectors_and_cov(templates_for_Kmeans,\n",
    "                                                             node_state,\n",
    "                                                             state_number)\n",
    "        transition_cost=compute_transition_cost(node_state,state_number)\n",
    "        #Convergence is achieved when the total best-alignment error for\n",
    "        #all training sequences does not change significantly with further\n",
    "        #refinement of the model\n",
    "        difference= previous_best_distance-current_best_distance\n",
    "#         print(\"current difference\")\n",
    "#         print(difference)\n",
    "        previous_best_distance=current_best_distance\n",
    "#         print(\"updated previous best distance\")\n",
    "#         print(previous_best_distance)\n",
    "        current_best_distance=0\n",
    "        if abs(difference)<0.0015:\n",
    "            print(\"Use {} iterators to updata\".format(j))\n",
    "            break\n",
    "        \n",
    "    return model_vectors,transition_cost,covarience"
   ]
  },
  {
   "cell_type": "code",
   "execution_count": 8,
   "metadata": {},
   "outputs": [],
   "source": [
    "def create_Kmeans_templates(foldername,start_instance,end_instance):\n",
    "    #we could also use this function for project 1,2,3 for testing our algorithm\n",
    "    #INPUT:\n",
    "        #foldername: the name of folder where Huangrui save the audio files\n",
    "        #end-start:the number of instance we are expected to use as the templates.\n",
    "    #OUTPUT:\n",
    "        #templates: we can easily fetch the template for the corresponding digit using:\n",
    "                #len(templates)%10+digit\n",
    "    templates_models=[]\n",
    "    templates_likehood=[]\n",
    "    templates_cov=[]\n",
    "    \n",
    "    for digit in range(0,10):\n",
    "        print(\"Huangrui is creating model vector for digit {} using {} sequences\" .format(\n",
    "            digit,end_instance-start_instance))\n",
    "        templates=[]\n",
    "        for i_th_instance in range(start_instance,end_instance):\n",
    "            #print(str(digit )+'_'+str(i_th_instance)+'.wav')\n",
    "            mfcc=getMFCC2(foldername+\"/\"+str(digit )+'_'+str(i_th_instance)+'.wav')\n",
    "            templates.append(mfcc)\n",
    "        model,likehood,cov=Kmeans(templates)\n",
    "        #print(model)\n",
    "        templates_models.append(model)\n",
    "        templates_likehood.append(likehood)\n",
    "        templates_cov.append(cov)\n",
    " \n",
    "    return templates_models,templates_likehood,templates_cov"
   ]
  },
  {
   "cell_type": "code",
   "execution_count": 9,
   "metadata": {
    "scrolled": true
   },
   "outputs": [
    {
     "name": "stdout",
     "output_type": "stream",
     "text": [
      "Huangrui is creating model vector for digit 0 using 5 sequences\n",
      "Use 21 iterators to updata\n",
      "Huangrui is creating model vector for digit 1 using 5 sequences\n",
      "Use 9 iterators to updata\n",
      "Huangrui is creating model vector for digit 2 using 5 sequences\n",
      "Use 16 iterators to updata\n",
      "Huangrui is creating model vector for digit 3 using 5 sequences\n",
      "Use 12 iterators to updata\n",
      "Huangrui is creating model vector for digit 4 using 5 sequences\n",
      "Use 13 iterators to updata\n",
      "Huangrui is creating model vector for digit 5 using 5 sequences\n",
      "Use 11 iterators to updata\n",
      "Huangrui is creating model vector for digit 6 using 5 sequences\n",
      "Use 8 iterators to updata\n",
      "Huangrui is creating model vector for digit 7 using 5 sequences\n",
      "Use 8 iterators to updata\n",
      "Huangrui is creating model vector for digit 8 using 5 sequences\n",
      "Use 16 iterators to updata\n",
      "Huangrui is creating model vector for digit 9 using 5 sequences\n",
      "Use 15 iterators to updata\n"
     ]
    }
   ],
   "source": [
    "foldername=\"../data\"\n",
    "templates_models,templates_likehood,templates_cov=create_Kmeans_templates(foldername,0,5)"
   ]
  },
  {
   "cell_type": "code",
   "execution_count": 12,
   "metadata": {},
   "outputs": [],
   "source": [
    "test_data,max_length=create_templates(foldername,5,10)"
   ]
  },
  {
   "cell_type": "code",
   "execution_count": 15,
   "metadata": {},
   "outputs": [],
   "source": [
    "def getKMeans_HMM_accuracy(templates_models,test_data,templates_likehood,templates_cov):\n",
    "    #K-means HMM recognition\n",
    "    import numpy as np\n",
    "\n",
    "    #main\n",
    "    accuracy=0\n",
    "    for j in range(len(test_data)):\n",
    "        current_digit=j%10\n",
    "        smallest_distance=[1000000,0]\n",
    "        for i in range(10):\n",
    "            distance=Kmean_dtw(templates_models[i],test_data[j],templates_likehood[i],templates_cov[i])\n",
    "            if distance<smallest_distance[0]:\n",
    "                smallest_distance[0]=distance\n",
    "                smallest_distance[1]=i\n",
    "        recoginized_result=smallest_distance[1]\n",
    "        if current_digit==recoginized_result:\n",
    "            accuracy+=1\n",
    "        print(current_digit,'recognized as:',recoginized_result)\n",
    "    print('accuracy:',accuracy/len(test_data))"
   ]
  },
  {
   "cell_type": "code",
   "execution_count": 16,
   "metadata": {
    "scrolled": true
   },
   "outputs": [
    {
     "name": "stdout",
     "output_type": "stream",
     "text": [
      "0 recognized as: 0\n",
      "1 recognized as: 1\n",
      "2 recognized as: 0\n",
      "3 recognized as: 3\n",
      "4 recognized as: 4\n",
      "5 recognized as: 5\n",
      "6 recognized as: 6\n",
      "7 recognized as: 7\n",
      "8 recognized as: 8\n",
      "9 recognized as: 9\n",
      "0 recognized as: 0\n",
      "1 recognized as: 1\n",
      "2 recognized as: 2\n",
      "3 recognized as: 3\n",
      "4 recognized as: 4\n",
      "5 recognized as: 5\n",
      "6 recognized as: 6\n",
      "7 recognized as: 7\n",
      "8 recognized as: 8\n",
      "9 recognized as: 9\n",
      "0 recognized as: 0\n",
      "1 recognized as: 1\n",
      "2 recognized as: 2\n",
      "3 recognized as: 3\n",
      "4 recognized as: 4\n",
      "5 recognized as: 5\n",
      "6 recognized as: 6\n",
      "7 recognized as: 7\n",
      "8 recognized as: 8\n",
      "9 recognized as: 9\n",
      "0 recognized as: 0\n",
      "1 recognized as: 1\n",
      "2 recognized as: 2\n",
      "3 recognized as: 3\n",
      "4 recognized as: 4\n",
      "5 recognized as: 5\n",
      "6 recognized as: 6\n",
      "7 recognized as: 7\n",
      "8 recognized as: 8\n",
      "9 recognized as: 9\n",
      "0 recognized as: 0\n",
      "1 recognized as: 1\n",
      "2 recognized as: 2\n",
      "3 recognized as: 3\n",
      "4 recognized as: 4\n",
      "5 recognized as: 5\n",
      "6 recognized as: 6\n",
      "7 recognized as: 7\n",
      "8 recognized as: 8\n",
      "9 recognized as: 9\n",
      "accuracy: 0.98\n"
     ]
    }
   ],
   "source": [
    "getKMeans_HMM_accuracy(templates_models,test_data,templates_likehood,templates_cov)"
   ]
  },
  {
   "cell_type": "code",
   "execution_count": null,
   "metadata": {},
   "outputs": [],
   "source": []
  },
  {
   "cell_type": "code",
   "execution_count": null,
   "metadata": {},
   "outputs": [],
   "source": []
  },
  {
   "cell_type": "code",
   "execution_count": null,
   "metadata": {},
   "outputs": [],
   "source": []
  },
  {
   "cell_type": "code",
   "execution_count": null,
   "metadata": {},
   "outputs": [],
   "source": []
  },
  {
   "cell_type": "code",
   "execution_count": null,
   "metadata": {},
   "outputs": [],
   "source": []
  },
  {
   "cell_type": "markdown",
   "metadata": {},
   "source": [
    "# Main"
   ]
  },
  {
   "cell_type": "code",
   "execution_count": 59,
   "metadata": {},
   "outputs": [],
   "source": [
    "from scipy.fftpack import dct,idct\n",
    "import pyaudio\n",
    "import wave\n",
    "import numpy as np\n",
    "import keyboard\n",
    "setting={}\n",
    "setting[\"mode\"]=\"II\"\n",
    "setting[\"forgetfactor\"]=1\n",
    "setting[\"onset_threshold\"]=12\n",
    "setting[\"dynamic_range\"]=10\n",
    "setting[\"adjustment\"]=0.05\n",
    "\n",
    "melsetting={}\n",
    "melsetting[\"calculate_mfcc\"]=1\n",
    "melsetting[\"show_mfcc_result\"]=1\n",
    "melsetting[\"upper_boundHz\"]=133.33\n",
    "melsetting[\"lower_boundHz\"]=6855.4976\n",
    "melsetting[\"num_banks\"]=40\n",
    "melsetting[\"num_ceps\"]=13\n",
    "class Recorder(object):\n",
    "    '''A recorder class for recording audio to a WAV file.\n",
    "    Records in mono by default.\n",
    "    '''\n",
    "    def __init__(self,FORMAT, CHANNEL, RATE, CHUNK,recordmode=\"Hit_to_talk\",filename=\"Huangrui Chu.wav\",VAD_setting=None,\n",
    "                 expected_time_silence=0.5,overlap_time=0.01,segment_time=0.02,Mel_setting=None):\n",
    "        #VAD_setting is a dictionary with keys \"mode\",\"forgetfactor\",\"onset_threshold\",“dynamic_range”,“adjustment”\n",
    "        self.format=FORMAT\n",
    "        self.channels = CHANNEL\n",
    "        self.rate = RATE\n",
    "        self.frames_per_buffer = CHUNK\n",
    "        self.recordmode=recordmode\n",
    "        self.filename=filename\n",
    "        self.VAD_setting=VAD_setting\n",
    "        self.expected_time_silence=expected_time_silence\n",
    "        self.overlap_time=overlap_time\n",
    "        self.segment_time=segment_time\n",
    "        self.Mel_setting=Mel_setting\n",
    "        self._pa = pyaudio.PyAudio()\n",
    "        \n",
    "    def _calc_energy(self,input_data):\n",
    "        #to calculate Decibel\n",
    "        #first translate the data type from byte to number\n",
    "        if self.format==pyaudio.paInt16:\n",
    "            #16-bit resolution\n",
    "            output_data=np.frombuffer(np.array(input_data),np.int16)\n",
    "            #then change the data format to in64 therefore when calculate the decibel, it would outside the uplimit value \n",
    "            #of int16\n",
    "            output_data=np.array(output_data,dtype='int64')\n",
    "        summed_value=np.sum(output_data**2)\n",
    "        if summed_value<=1:\n",
    "            energy=0\n",
    "        else:\n",
    "            energy=10*np.log10(summed_value)\n",
    "        return output_data,energy\n",
    "    \n",
    "    def classifyFrameI(self,current,forgetfactor,onset_threshold,adjustment):\n",
    "        #One threshold呢 当我开始阴阳怪气的说话的时候会很快被认为不说话了。\n",
    "        #An Adaptive Endpointing Algorithm\n",
    "        isSpeech = False\n",
    "        self.level = ((self.level * forgetfactor) + current) / (forgetfactor+ 1)\n",
    "        if (current < self.background):\n",
    "            self.background = current\n",
    "        else:\n",
    "            self.background += (current - self.background) * adjustment\n",
    "        if (self.level < self.background): \n",
    "            self.level = self.background\n",
    "        if (self.level - self.background >onset_threshold): \n",
    "            isSpeech = True\n",
    "        print(\"background is {}\".format(self.background))\n",
    "        print(\"difference is {}\".format(self.level-self.background))\n",
    "        print(isSpeech)\n",
    "        self.isSpeech=isSpeech\n",
    "        \n",
    "    def classifyFrameII(self,current,forgetfactor,onset_threshold,dynamic_range,adjustment):\n",
    "        offset_threshold=onset_threshold-dynamic_range\n",
    "        #A More Complex Algorithm with Two-Threshold Formula: onset_threshold,offset_threshold\n",
    "        if (current < self.background):\n",
    "            self.background = current\n",
    "        self.level = ((self.level * forgetfactor) + current) / (forgetfactor+ 1)\n",
    "        #updata speech state\n",
    "        if self.isSpeech:\n",
    "            if (self.level-self.background < offset_threshold):\n",
    "                self.isSpeech=0\n",
    "        else:\n",
    "             if (self.level-self.background > onset_threshold):\n",
    "                    self.isSpeech=1\n",
    "        #updata background\n",
    "        if self.isSpeech:\n",
    "            if self.level-self.background > onset_threshold:\n",
    "                 self.background += (self.level-self.background)* adjustment\n",
    "#         print(\"background is {}\".format(self.background))\n",
    "#         print(\"difference is {}\".format(self.level-self.background))\n",
    "        \n",
    "    def _classify_chunk(self,current_energy):\n",
    "        if self.VAD_setting[\"mode\"]==\"I\":\n",
    "            self.classifyFrameI(current_energy,self.VAD_setting[\"forgetfactor\"],self.VAD_setting[\"onset_threshold\"],\n",
    "                                self.VAD_setting[\"adjustment\"])\n",
    "        \n",
    "        elif self.VAD_setting[\"mode\"]==\"II\":\n",
    "            self.classifyFrameII(current_energy,self.VAD_setting[\"forgetfactor\"],self.VAD_setting[\"onset_threshold\"],\n",
    "                            self.VAD_setting[\"dynamic_range\"],self.VAD_setting[\"adjustment\"])\n",
    "        \n",
    "    def _get_callback(self):\n",
    "        array_frames=np.array(self.frames)\n",
    "        if self.format==pyaudio.paInt16:\n",
    "            #16-bit resolution\n",
    "            frames=np.frombuffer(array_frames, np.int16)\n",
    "        return frames\n",
    "    \n",
    "    def _chunk2frames(self,chunk):\n",
    "        width=int(self.rate*self.segment_time)\n",
    "        stride=int(self.rate*self.overlap_time)\n",
    "        # you can use np.ceil(log2 width) as the power of FFT \n",
    "        self.FFT_size=int(np.power(2,np.ceil(np.log2(width))))\n",
    "        wave_length=len(chunk)\n",
    "        if wave_length<=width:\n",
    "            num_frames=1\n",
    "        else:\n",
    "            num_frames=int(np.ceil((wave_length-width)/stride))+1\n",
    "        frames_within_a_chunk=[]    \n",
    "        for i in range(num_frames):\n",
    "            frames_within_a_chunk.append(chunk[stride*i:stride*i+width])\n",
    "        return frames_within_a_chunk\n",
    "    \n",
    "    def _calculatemfcc(self,decoded):\n",
    "        chunk=Preemphasizing(decoded) #preemphasizing the whole chunk\n",
    "        #from chunk use sliding window to get frames\n",
    "        frames_within_a_chunk=self._chunk2frames(chunk)\n",
    "        for frame in frames_within_a_chunk:\n",
    "            frame=windowing(frame)\n",
    "            frame=zero_padding(frame,self.FFT_size)\n",
    "            power_spectrum=FFT(frame,self.FFT_size)\n",
    "            Log_Mel_spectrum=filterbanks(power_spectrum,self.Mel_setting[\"lower_boundHz\"],self.Mel_setting[\"upper_boundHz\"],\n",
    "                                         self.Mel_setting[\"num_banks\"],self.FFT_size)\n",
    "            mfcc=dct(Log_Mel_spectrum,axis=-1, type=2, norm='ortho')[ : self.num_ceps ] # Keep 2-13\n",
    "            self.mfcc.append(mfcc)\n",
    "            self.melspectrum.append(Log_Mel_spectrum)\n",
    "    \n",
    "\n",
    "\n",
    "    def show_IDCT_logspectrum(self):\n",
    "        py_mfcc=np.array(self.mfcc)[:,0:self.num_ceps]\n",
    "        pad_py_mfcc = np.pad(py_mfcc,((0,0),(0,64-self.num_ceps)),'constant', constant_values=0) \n",
    "        pad_logmel = idct(pad_py_mfcc.T, axis=0, type=2, norm='ortho', n=self.Mel_setting[\"num_banks\"])\n",
    "        self.plot_show(pad_logmel, \"idct zero padding 64\")\n",
    "        \n",
    "    def plot_show(self,filter_banks_T, feat_name):\n",
    "        # 画图\n",
    "        fig, ax = plt.subplots(nrows=1, ncols=1, figsize=(20, 4))\n",
    "        cax = ax.matshow(\n",
    "            filter_banks_T.astype(\"float32\"),\n",
    "            interpolation=\"nearest\",\n",
    "            aspect=\"auto\",\n",
    "            cmap=plt.cm.jet,\n",
    "            origin=\"lower\",\n",
    "        )\n",
    "        fig.colorbar(cax)\n",
    "        plt.title(feat_name)\n",
    "        plt.show()\n",
    "    \n",
    "    def start(self):\n",
    "        self.start_recording()\n",
    "        if self.recordmode==\"Hit_to_talk\":\n",
    "            self.hit_to_talk()\n",
    "        self.stop_recording()\n",
    "        #store the record\n",
    "        wf = wave.open(self.filename, 'wb')\n",
    "        wf.setnchannels(self.channels)\n",
    "        wf.setsampwidth(self._pa.get_sample_size(self.format))\n",
    "        wf.setframerate(self.rate)\n",
    "        wf.writeframes(b''.join(self.frames))\n",
    "        wf.close()\n",
    "        print(\"Audio data saved as {}\".format(self.filename))\n",
    "        \n",
    "        \n",
    "    def hit_to_talk(self):\n",
    "        print(\"Hit to talk!\")\n",
    "        self.isSpeech=False\n",
    "        self.record=False\n",
    "        self.level=0\n",
    "        self.background=0\n",
    "        self.time_silence=0#track the salient time\n",
    "        self.chunkenergy=[]\n",
    "        self.frames=[] # to store the speeking data\n",
    "        self.mfcc=[]#to store the mfcc\n",
    "        self.melspectrum=[]# to store the melspectrum pieces\n",
    "        while True:\n",
    "            #read the data from sound card\n",
    "            data = self._stream.read(self.frames_per_buffer)\n",
    "            #calculate the energy and get the decoded data\n",
    "            decoded,energy=self._calc_energy(data)\n",
    "            if not self.record:\n",
    "                self.chunkenergy.append(energy)\n",
    "                #print(self.chunkenergy)\n",
    "                if keyboard.is_pressed(\"a\"):\n",
    "                    print(\"please talking!\")\n",
    "                    self.record=True\n",
    "                    if len(self.chunkenergy)<=10:\n",
    "                        self.level=self.chunkenergy[0]\n",
    "                        self.background=np.average(np.array(self.chunkenergy))\n",
    "                    else:\n",
    "                        self.level=self.chunkenergy[-10]\n",
    "                        self.background=np.average(np.array(self.chunkenergy[-10:]))\n",
    "                    print(\"beginning level is {}\".format(self.level))\n",
    "                    print(\"beginning background is {}\".format(self.background))\n",
    "            else:\n",
    "                #MFCC part\n",
    "                if self.Mel_setting[\"calculate_mfcc\"]:\n",
    "                    self.num_ceps= self.Mel_setting[\"num_ceps\"]\n",
    "                    self._calculatemfcc(decoded)\n",
    "                #Ending point\n",
    "                self._classify_chunk(energy)# check whether this chunk is speeking\n",
    "                if not self.isSpeech:\n",
    "                    #if it is silence record this silence time\n",
    "                    self.time_silence+=self.frames_per_buffer/self.rate\n",
    "                else:\n",
    "                    # set the silence time back to zero\n",
    "                    self.time_silence=0\n",
    "                #save the data\n",
    "                self.frames.append(data)\n",
    "                #when the time of silence exceed the tolerance, then stop recording\n",
    "                if self.time_silence>=self.expected_time_silence:\n",
    "                    break\n",
    "        \n",
    "        \n",
    "        \n",
    "        print(\"Too long time no one speaking, stop recording!\")\n",
    "        \n",
    "        if melsetting[\"show_mfcc_result\"]:\n",
    "            self.show_IDCT_logspectrum()\n",
    "            self.plot_show(np.array(self.mfcc).T, \"mfcc from fbank using package\")\n",
    "            self.plot_show(np.array(self.melspectrum).T, \"logfbank using package\")\n",
    "            \n",
    "        #Normalization of MFCC for future classification\n",
    "        mean=np.mean(self.mfcc,0)\n",
    "        for i in range(len(self.mfcc)):\n",
    "            for j in range( self.num_ceps):\n",
    "                self.mfcc[i][j]=self.mfcc[i][j]-mean[j]\n",
    "                \n",
    "        self.mfcc[0]=np.hstack((self.mfcc[0],self.mfcc[0],self.mfcc[0]))\n",
    "        self.mfcc[-1]=np.hstack((self.mfcc[-1],self.mfcc[-1],self.mfcc[-1]))\n",
    "        \n",
    "        for i in range(1,len(self.mfcc)-1):\n",
    "            delta=np.zeros( self.num_ceps)\n",
    "            for j in range( self.num_ceps):\n",
    "                delta[j]=self.mfcc[i+1][j]-self.mfcc[i-1][j]\n",
    "            self.mfcc[i]=np.hstack((self.mfcc[i],delta))\n",
    "\n",
    "        for i in range(1,len(self.mfcc)-1):\n",
    "            acc=np.zeros( self.num_ceps)\n",
    "            for j in range( self.num_ceps):\n",
    "                acc[j]=self.mfcc[i+1][ self.num_ceps+j]-self.mfcc[i-1][ self.num_ceps+j]\n",
    "            self.mfcc[i]=np.hstack((self.mfcc[i],acc))\n",
    "\n",
    "        std=np.std(self.mfcc)\n",
    "        var=np.var(self.mfcc,1)\n",
    "        for i in range(len(self.mfcc)):\n",
    "            for j in range( self.num_ceps*3):\n",
    "                self.mfcc[i][j]=self.mfcc[i][j]/var[i]       \n",
    "                \n",
    "        \n",
    "        \n",
    "                \n",
    "                \n",
    "        \n",
    "    def start_recording(self):\n",
    "        # Use a stream with no callback function in blocking mode\n",
    "        self._stream = self._pa.open(format=pyaudio.paInt16,\n",
    "                                        channels=self.channels,\n",
    "                                        rate=self.rate,\n",
    "                                        input=True,\n",
    "                                        frames_per_buffer=self.frames_per_buffer)\n",
    "        print(\"* recording with format {}, {} channel(s),a sampling rate of {} samples per second and {} frames per buffer\"\n",
    "          .format(self.format,self.channels  ,self.rate ,self.frames_per_buffer))\n",
    "        print(\"click \\\"a\\\" to start recording!\")    \n",
    "        \n",
    "    def stop_recording(self):\n",
    "        self._stream.stop_stream()\n",
    "    def terminate(self):\n",
    "        self._stream.close()\n",
    "        self._pa.terminate()"
   ]
  },
  {
   "cell_type": "code",
   "execution_count": 61,
   "metadata": {
    "scrolled": false
   },
   "outputs": [
    {
     "name": "stdout",
     "output_type": "stream",
     "text": [
      "* recording with format 8, 1 channel(s),a sampling rate of 16000 samples per second and 1600 frames per buffer\n",
      "click \"a\" to start recording!\n",
      "Hit to talk!\n",
      "please talking!\n",
      "beginning level is 80.98493773171921\n",
      "beginning background is 82.219546535843\n"
     ]
    },
    {
     "data": {
      "image/png": "[encoded data removed]",
      "text/plain": [
       "<Figure size 1440x288 with 2 Axes>"
      ]
     },
     "metadata": {
      "needs_background": "light"
     },
     "output_type": "display_data"
    },
    {
     "data": {
      "image/png": "[encoded data removed]",
      "text/plain": [
       "<Figure size 1440x288 with 2 Axes>"
      ]
     },
     "metadata": {
      "needs_background": "light"
     },
     "output_type": "display_data"
    },
    {
     "data": {
      "image/png": "[encoded data removed]",
      "text/plain": [
       "<Figure size 1440x288 with 2 Axes>"
      ]
     },
     "metadata": {
      "needs_background": "light"
     },
     "output_type": "display_data"
    },
    {
     "name": "stdout",
     "output_type": "stream",
     "text": [
      "Too long time no one speaking, stop recording!\n",
      "Audio data saved as Huangrui Chu.wav\n"
     ]
    }
   ],
   "source": [
    "rec=Recorder(FORMAT=pyaudio.paInt16, CHANNEL=1, RATE=16000,CHUNK=1600,VAD_setting=setting,Mel_setting=melsetting)\n",
    "rec.start()"
   ]
  }
 ],
 "metadata": {
  "kernelspec": {
   "display_name": "Python 3",
   "language": "python",
   "name": "python3"
  },
  "language_info": {
   "codemirror_mode": {
    "name": "ipython",
    "version": 3
   },
   "file_extension": ".py",
   "mimetype": "text/x-python",
   "name": "python",
   "nbconvert_exporter": "python",
   "pygments_lexer": "ipython3",
   "version": "3.8.5"
  }
 },
 "nbformat": 4,
 "nbformat_minor": 4
}
