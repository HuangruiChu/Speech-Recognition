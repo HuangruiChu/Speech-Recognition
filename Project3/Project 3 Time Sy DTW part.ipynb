{
 "cells": [
  {
   "cell_type": "markdown",
   "metadata": {},
   "source": [
    "# Relevant Packages"
   ]
  },
  {
   "cell_type": "code",
   "execution_count": 1,
   "metadata": {},
   "outputs": [],
   "source": [
    "#Import packages\n",
    "import IPython.display as ipd\n",
    "import numpy as np\n",
    "import pyaudio, wave\n",
    "import math\n",
    "import matplotlib.pyplot as plt\n",
    "from numpy.matlib import repmat\n",
    "from scipy.fftpack import dct"
   ]
  },
  {
   "cell_type": "markdown",
   "metadata": {},
   "source": [
    "# MFCC PART\n",
    "\n",
    "Here, I write three functions to get MFCC feature (39 dim) one is from project 2 another two functions are made of librosa and python_speech_features. "
   ]
  },
  {
   "cell_type": "code",
   "execution_count": 2,
   "metadata": {},
   "outputs": [],
   "source": [
    "def getMFCC2(wavename):#without normalization\n",
    "    import numpy as np\n",
    "    import scipy.io.wavfile as wav\n",
    "    from python_speech_features import mfcc\n",
    "    fs, audio = wav.read(wavename)\n",
    "    feature_mfcc = mfcc(audio, samplerate=fs)\n",
    "    mfcc=[]\n",
    "    mfcc.append(np.hstack([feature_mfcc[0],feature_mfcc[0],feature_mfcc[0]]))\n",
    "    for i in range(1,len(feature_mfcc)-1):\n",
    "        delta=np.zeros(13)\n",
    "        for j in range(13):\n",
    "            delta[j]=feature_mfcc[i+1][j]-feature_mfcc[i-1][j]\n",
    "        mfcc.append(np.hstack([feature_mfcc[i],delta]))\n",
    "    mfcc.append(np.hstack([feature_mfcc[-1],feature_mfcc[-1],feature_mfcc[-1]]))\n",
    "\n",
    "    for i in range(1,len(mfcc)-1):\n",
    "        acc=np.zeros(13)\n",
    "        for j in range(13):\n",
    "            acc[j]=mfcc[i+1][13+j]-mfcc[i-1][13+j]\n",
    "        mfcc[i]=np.hstack([mfcc[i],acc])\n",
    "    mfcc=np.array(mfcc)\n",
    "    return mfcc"
   ]
  },
  {
   "cell_type": "code",
   "execution_count": 3,
   "metadata": {},
   "outputs": [],
   "source": [
    "def getMFCC3(wavename):#with normalization\n",
    "    import librosa\n",
    "    audio, sr = librosa.load(wavename,sr=None)\n",
    "    mfccs = librosa.feature.mfcc(y=audio, sr=sr,n_mfcc=39)\n",
    "    return mfccs.T"
   ]
  },
  {
   "cell_type": "markdown",
   "metadata": {},
   "source": [
    "# Create Templates\n",
    "\n",
    "\n",
    "There are total 100 wave files, 10 samples for digit 1-10. All these files are saved in the following format by Huangrui Chu: digit_0.wav, digit_1.wav.  digit could be 0,1,2,...9."
   ]
  },
  {
   "cell_type": "code",
   "execution_count": 4,
   "metadata": {},
   "outputs": [],
   "source": [
    "def create_templates(foldername,start_instance,end_instance):\n",
    "    #we could also use this function for project 1,2,3 for testing our algorithm\n",
    "    #INPUT:\n",
    "        #foldername: the name of folder where Huangrui save the audio files\n",
    "        #end-start:the number of instance we are expected to use as the templates.\n",
    "    #OUTPUT:\n",
    "        #templates: we can easily fetch the template for the corresponding digit using:\n",
    "                #len(templates)%10+digit\n",
    "    templates=[]\n",
    "    max_template_length=0\n",
    "    for i_th_instance in range(start_instance,end_instance):\n",
    "        for digit in range(0,10):\n",
    "            #print(str(digit )+'_'+str(i_th_instance)+'.wav')\n",
    "            mfcc=getMFCC2(foldername+\"/\"+str(digit )+'_'+str(i_th_instance)+'.wav')\n",
    "            if max_template_length<len(mfcc):\n",
    "                max_template_length=len(mfcc)\n",
    "            templates.append(mfcc)\n",
    "    return templates,max_template_length"
   ]
  },
  {
   "cell_type": "markdown",
   "metadata": {},
   "source": [
    "# DTW(Dynamic Time Warping)"
   ]
  },
  {
   "cell_type": "code",
   "execution_count": 7,
   "metadata": {},
   "outputs": [],
   "source": [
    "def dtw(template,data):\n",
    "    #Author: Huangrui Chu\n",
    "    #Input:\n",
    "        #template 39 dim array\n",
    "        #data 39 dim array\n",
    "    import numpy as np\n",
    "    # insert fin at the beginning of the template and data\n",
    "    zeros=np.zeros([39])\n",
    "    template=np.vstack([zeros,template])\n",
    "    data=np.vstack([zeros,data])\n",
    "    \n",
    "    t=len(template) # means i th template frame aligns with j-th input frame\n",
    "    d=len(data)#means input frame j\n",
    "    #create empty best path cost matrix \"P\" \n",
    "    P=np.zeros([t])\n",
    "    \n",
    "    \n",
    "    for j in range(d): #input frame j\n",
    "        P1=np.zeros([t])\n",
    "        for i in range(t): # i th template frame aligns with j-th input frame\n",
    "            Cij=np.sqrt(np.sum(np.square(template[i]-data[j])))\n",
    "            #print(Cij)\n",
    "            if i-2>=0:\n",
    "                P1[i]=min(P[i],P[i-1],P[i-2])+Cij\n",
    "            elif i-1>=0:\n",
    "                P1[i]=min(P[i],P[i-1])+Cij\n",
    "            else:\n",
    "                P1[i]=P[i]+Cij\n",
    "        P=P1.copy() #Use deep copy to updata the best path cost\n",
    "        #print(P)\n",
    "    #Use DTW cost / frame of input speech, instead of total DTW cost, before determining threshold\n",
    "    # 5 PPT  p.g 32\n",
    "    normalized_cost=P[-1]/d\n",
    "    return normalized_cost"
   ]
  },
  {
   "cell_type": "markdown",
   "metadata": {},
   "source": [
    "# dtw-based recognition"
   ]
  },
  {
   "cell_type": "code",
   "execution_count": 8,
   "metadata": {},
   "outputs": [],
   "source": [
    "def DTW_Based_recognition(templates,check_mfcc):\n",
    "    smallest_distance=[100000,10000]\n",
    "    #smallest_distance[0] save the current smallest distance,smallest_distance[1] save the corresponding template id\n",
    "    for i in range(len(templates)):\n",
    "        distance=dtw(templates[i],check_mfcc)\n",
    "        if distance<smallest_distance[0]:\n",
    "            smallest_distance[0]=distance\n",
    "#             print(distance)\n",
    "            smallest_distance[1]=i\n",
    "#             print(\"id is {}\".format(i))\n",
    "#             print(\"maybe {}\".format(i%10))\n",
    "    final_answer=smallest_distance[1]%10\n",
    "#     print(\"I guess the answer is {}\".format(final_answer))\n",
    "    return final_answer"
   ]
  },
  {
   "cell_type": "code",
   "execution_count": 9,
   "metadata": {},
   "outputs": [],
   "source": [
    "foldername=\"../data\"\n",
    "test_data,max_test_length=create_templates(foldername,5,10)\n",
    "templates,max_template_length=create_templates(foldername,0,1)"
   ]
  },
  {
   "cell_type": "code",
   "execution_count": 10,
   "metadata": {},
   "outputs": [],
   "source": [
    "check_mfcc=test_data[6]"
   ]
  },
  {
   "cell_type": "code",
   "execution_count": 11,
   "metadata": {},
   "outputs": [
    {
     "name": "stdout",
     "output_type": "stream",
     "text": [
      "74.43894128880532\n",
      "id is 0\n",
      "maybe 0\n",
      "73.76736993186549\n",
      "id is 2\n",
      "maybe 2\n",
      "72.97301794037506\n",
      "id is 3\n",
      "maybe 3\n",
      "71.55232133780056\n",
      "id is 5\n",
      "maybe 5\n",
      "65.97772347895047\n",
      "id is 6\n",
      "maybe 6\n",
      "I guess the answer is 6\n"
     ]
    },
    {
     "data": {
      "text/plain": [
       "6"
      ]
     },
     "execution_count": 11,
     "metadata": {},
     "output_type": "execute_result"
    }
   ],
   "source": [
    "DTW_Based_recognition(templates,check_mfcc)"
   ]
  },
  {
   "cell_type": "markdown",
   "metadata": {},
   "source": [
    "# Time Synchronous Search DTW"
   ]
  },
  {
   "cell_type": "code",
   "execution_count": 87,
   "metadata": {},
   "outputs": [],
   "source": [
    "def TS_DTW_Based_recognition(templates,data,threshold=0.1):\n",
    "    #Author: Yueqi Wu\n",
    "    #Input:\n",
    "        #templates a list containing several 39 dim arrays\n",
    "        #data 39 dim array\n",
    "        #threshold: the threshold to stop the search for certain template\n",
    "                    #the threshold should be soft 想想教授上课怎么讲的，我忘了\n",
    "    import numpy as np\n",
    "    \n",
    "    \n",
    "    \n",
    "    \n",
    "    \n",
    "    \n",
    "    \n",
    "    \n",
    "    \n",
    "    \n",
    "    \n",
    "    \n",
    "    \n",
    "    \n",
    "    \n",
    "    \n",
    "    \n",
    "    \n",
    "    \n",
    "    \n",
    "    \n",
    "    \n",
    "    \n",
    "    \n",
    "    \n",
    "    \n",
    "    \n",
    "  "
   ]
  },
  {
   "cell_type": "code",
   "execution_count": 89,
   "metadata": {},
   "outputs": [
    {
     "ename": "ValueError",
     "evalue": "all the input array dimensions for the concatenation axis must match exactly, but along dimension 0, the array at index 0 has size 270 and the array at index 1 has size 250",
     "output_type": "error",
     "traceback": [
      "\u001b[1;31m---------------------------------------------------------------------------\u001b[0m",
      "\u001b[1;31mValueError\u001b[0m                                Traceback (most recent call last)",
      "\u001b[1;32m<ipython-input-89-1614e44757ff>\u001b[0m in \u001b[0;36m<module>\u001b[1;34m\u001b[0m\n\u001b[1;32m----> 1\u001b[1;33m \u001b[0mTS_DTW\u001b[0m\u001b[1;33m(\u001b[0m\u001b[0mtemplates\u001b[0m\u001b[1;33m,\u001b[0m\u001b[0mcheck_mfcc\u001b[0m\u001b[1;33m,\u001b[0m\u001b[0mthreshold\u001b[0m\u001b[1;33m=\u001b[0m\u001b[1;36m0.1\u001b[0m\u001b[1;33m)\u001b[0m\u001b[1;33m\u001b[0m\u001b[1;33m\u001b[0m\u001b[0m\n\u001b[0m",
      "\u001b[1;32m<ipython-input-87-9a6d3f38b6ea>\u001b[0m in \u001b[0;36mTS_DTW\u001b[1;34m(templates, data, threshold)\u001b[0m\n\u001b[0;32m     18\u001b[0m         \u001b[0mzeros\u001b[0m\u001b[1;33m=\u001b[0m\u001b[0mnp\u001b[0m\u001b[1;33m.\u001b[0m\u001b[0mzeros\u001b[0m\u001b[1;33m(\u001b[0m\u001b[1;33m[\u001b[0m\u001b[1;36m39\u001b[0m\u001b[1;33m]\u001b[0m\u001b[1;33m)\u001b[0m\u001b[1;33m\u001b[0m\u001b[1;33m\u001b[0m\u001b[0m\n\u001b[0;32m     19\u001b[0m         \u001b[0mtemplate\u001b[0m\u001b[1;33m=\u001b[0m\u001b[0mnp\u001b[0m\u001b[1;33m.\u001b[0m\u001b[0mvstack\u001b[0m\u001b[1;33m(\u001b[0m\u001b[1;33m[\u001b[0m\u001b[0mzeros\u001b[0m\u001b[1;33m,\u001b[0m\u001b[0mtemplate\u001b[0m\u001b[1;33m]\u001b[0m\u001b[1;33m)\u001b[0m\u001b[1;33m\u001b[0m\u001b[1;33m\u001b[0m\u001b[0m\n\u001b[1;32m---> 20\u001b[1;33m         \u001b[0mTS_template\u001b[0m\u001b[1;33m=\u001b[0m\u001b[0mnp\u001b[0m\u001b[1;33m.\u001b[0m\u001b[0mhstack\u001b[0m\u001b[1;33m(\u001b[0m\u001b[1;33m[\u001b[0m\u001b[0mTS_template\u001b[0m\u001b[1;33m,\u001b[0m\u001b[0mtemplate\u001b[0m\u001b[1;33m]\u001b[0m\u001b[1;33m)\u001b[0m\u001b[1;33m\u001b[0m\u001b[1;33m\u001b[0m\u001b[0m\n\u001b[0m\u001b[0;32m     21\u001b[0m     \u001b[0mprint\u001b[0m\u001b[1;33m(\u001b[0m\u001b[0mTS_template\u001b[0m\u001b[1;33m.\u001b[0m\u001b[0mshape\u001b[0m\u001b[1;33m)\u001b[0m\u001b[1;33m\u001b[0m\u001b[1;33m\u001b[0m\u001b[0m\n\u001b[0;32m     22\u001b[0m     \u001b[0mdata\u001b[0m\u001b[1;33m=\u001b[0m\u001b[0mnp\u001b[0m\u001b[1;33m.\u001b[0m\u001b[0mvstack\u001b[0m\u001b[1;33m(\u001b[0m\u001b[1;33m[\u001b[0m\u001b[0mzeros\u001b[0m\u001b[1;33m,\u001b[0m\u001b[0mdata\u001b[0m\u001b[1;33m]\u001b[0m\u001b[1;33m)\u001b[0m\u001b[1;33m\u001b[0m\u001b[1;33m\u001b[0m\u001b[0m\n",
      "\u001b[1;32m<__array_function__ internals>\u001b[0m in \u001b[0;36mhstack\u001b[1;34m(*args, **kwargs)\u001b[0m\n",
      "\u001b[1;32m~\\anaconda3\\lib\\site-packages\\numpy\\core\\shape_base.py\u001b[0m in \u001b[0;36mhstack\u001b[1;34m(tup)\u001b[0m\n\u001b[0;32m    344\u001b[0m         \u001b[1;32mreturn\u001b[0m \u001b[0m_nx\u001b[0m\u001b[1;33m.\u001b[0m\u001b[0mconcatenate\u001b[0m\u001b[1;33m(\u001b[0m\u001b[0marrs\u001b[0m\u001b[1;33m,\u001b[0m \u001b[1;36m0\u001b[0m\u001b[1;33m)\u001b[0m\u001b[1;33m\u001b[0m\u001b[1;33m\u001b[0m\u001b[0m\n\u001b[0;32m    345\u001b[0m     \u001b[1;32melse\u001b[0m\u001b[1;33m:\u001b[0m\u001b[1;33m\u001b[0m\u001b[1;33m\u001b[0m\u001b[0m\n\u001b[1;32m--> 346\u001b[1;33m         \u001b[1;32mreturn\u001b[0m \u001b[0m_nx\u001b[0m\u001b[1;33m.\u001b[0m\u001b[0mconcatenate\u001b[0m\u001b[1;33m(\u001b[0m\u001b[0marrs\u001b[0m\u001b[1;33m,\u001b[0m \u001b[1;36m1\u001b[0m\u001b[1;33m)\u001b[0m\u001b[1;33m\u001b[0m\u001b[1;33m\u001b[0m\u001b[0m\n\u001b[0m\u001b[0;32m    347\u001b[0m \u001b[1;33m\u001b[0m\u001b[0m\n\u001b[0;32m    348\u001b[0m \u001b[1;33m\u001b[0m\u001b[0m\n",
      "\u001b[1;32m<__array_function__ internals>\u001b[0m in \u001b[0;36mconcatenate\u001b[1;34m(*args, **kwargs)\u001b[0m\n",
      "\u001b[1;31mValueError\u001b[0m: all the input array dimensions for the concatenation axis must match exactly, but along dimension 0, the array at index 0 has size 270 and the array at index 1 has size 250"
     ]
    }
   ],
   "source": [
    "TS_DTW_Based_recognition(templates,max_template_length,check_mfcc,threshold=0.1)"
   ]
  },
  {
   "cell_type": "markdown",
   "metadata": {},
   "source": [
    "# check the accuracy"
   ]
  },
  {
   "cell_type": "code",
   "execution_count": 96,
   "metadata": {},
   "outputs": [],
   "source": [
    "def check_the_accuracy(foldername,start_instance,end_instance,test_data):\n",
    "    print(\"Huangrui is going to check the accuracy based dtw with {} templates\".format(end_instance-start_instance))\n",
    "    the_input_digit=[]\n",
    "    the_dtw_result=[]\n",
    "    templates=create_templates(foldername,start_instance,end_instance)\n",
    "    for i in range(len(test_data)):\n",
    "        current_digit=i%10\n",
    "        current_guess=DTW_Based_recognition(templates,test_data[i])\n",
    "        the_input_digit.append(current_digit)\n",
    "        the_dtw_result.append( current_guess)\n",
    "    return the_input_digit,the_dtw_result"
   ]
  },
  {
   "cell_type": "code",
   "execution_count": 97,
   "metadata": {},
   "outputs": [],
   "source": [
    "foldername=\"../data\"\n",
    "test_data=create_templates(foldername,5,10)"
   ]
  }
 ],
 "metadata": {
  "kernelspec": {
   "display_name": "Python 3",
   "language": "python",
   "name": "python3"
  },
  "language_info": {
   "codemirror_mode": {
    "name": "ipython",
    "version": 3
   },
   "file_extension": ".py",
   "mimetype": "text/x-python",
   "name": "python",
   "nbconvert_exporter": "python",
   "pygments_lexer": "ipython3",
   "version": "3.8.5"
  }
 },
 "nbformat": 4,
 "nbformat_minor": 4
}
